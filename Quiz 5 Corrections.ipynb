{
 "cells": [
  {
   "cell_type": "code",
   "execution_count": null,
   "id": "f33f8d68",
   "metadata": {},
   "outputs": [
    {
     "name": "stdout",
     "output_type": "stream",
     "text": [
      "o\n",
      "Slice:  Ha\n"
     ]
    }
   ],
   "source": [
    "text = \"Happy Halloween!\"\n",
    "print(text[10]) #Prints index 10\n",
    "print(\"Slice:\", text[5:8]) #Prints indexes 5 to 7"
   ]
  },
  {
   "cell_type": "code",
   "execution_count": null,
   "id": "8f8fba0b",
   "metadata": {},
   "outputs": [
    {
     "name": "stdout",
     "output_type": "stream",
     "text": [
      "b costs $10.00\n",
      "e costs $9.00\n",
      "g costs $7.50\n",
      "Total frocery bill is $26.50 for 3 items.\n"
     ]
    }
   ],
   "source": [
    "items = {'b': 10.0, 'e': 9.0, 'g': 7.5} #Causes error if the g is missing :\n",
    "total = 0.0\n",
    "total_item = 0\n",
    "for name, price in items.items(): #Causes error if the for loop function is missing a :\n",
    "    total += price #Needs an intend or an error occurs\n",
    "    total_item += 1 #Missing the addition for total items\n",
    "    print(f\"{name} costs ${price:.2f}\")\n",
    "print(f\"Total frocery bill is ${total:.2f} for {total_item} items.\") #Missing paranthesis around the total"
   ]
  }
 ],
 "metadata": {
  "kernelspec": {
   "display_name": "base",
   "language": "python",
   "name": "python3"
  },
  "language_info": {
   "codemirror_mode": {
    "name": "ipython",
    "version": 3
   },
   "file_extension": ".py",
   "mimetype": "text/x-python",
   "name": "python",
   "nbconvert_exporter": "python",
   "pygments_lexer": "ipython3",
   "version": "3.13.5"
  }
 },
 "nbformat": 4,
 "nbformat_minor": 5
}
